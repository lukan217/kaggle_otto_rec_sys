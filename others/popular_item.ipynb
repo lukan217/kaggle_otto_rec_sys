{
 "cells": [
  {
   "cell_type": "code",
   "execution_count": 57,
   "metadata": {},
   "outputs": [],
   "source": [
    "import pandas as pd\n",
    "import numpy as np\n",
    "import cudf\n",
    "\n",
    "IS_SUBMIT = False\n",
    "IS_TRAIN = False\n",
    "\n",
    "if IS_TRAIN:\n",
    "    train = cudf.read_parquet('/root/autodl-tmp/ottodata/valid/train.parquet')\n",
    "    test = cudf.read_parquet('/root/autodl-tmp/ottodata/valid/test.parquet')\n",
    "else:\n",
    "    train = cudf.read_parquet('/root/autodl-tmp/ottodata/train.parquet')\n",
    "    test = cudf.read_parquet('/root/autodl-tmp/ottodata/test.parquet')"
   ]
  },
  {
   "cell_type": "code",
   "execution_count": 58,
   "metadata": {},
   "outputs": [],
   "source": [
    "data = cudf.concat([train,test])"
   ]
  },
  {
   "cell_type": "code",
   "execution_count": 59,
   "metadata": {},
   "outputs": [],
   "source": [
    "item_label = cudf.read_parquet('/root/autodl-tmp/ottodata/tmp/item_label3.parquet')"
   ]
  },
  {
   "cell_type": "code",
   "execution_count": 60,
   "metadata": {},
   "outputs": [],
   "source": [
    "test = test.merge(item_label,on='aid',how='left')\n",
    "data = data.merge(item_label,on='aid',how='left')"
   ]
  },
  {
   "cell_type": "code",
   "execution_count": 61,
   "metadata": {},
   "outputs": [],
   "source": [
    "test = test.sort_values(['session','ts'])\n",
    "data = data.sort_values(['session','ts'])\n"
   ]
  },
  {
   "cell_type": "code",
   "execution_count": 62,
   "metadata": {},
   "outputs": [],
   "source": [
    "popular_items = data.groupby(['item_label','type','aid'])['ts'].count().reset_index()"
   ]
  },
  {
   "cell_type": "code",
   "execution_count": 63,
   "metadata": {},
   "outputs": [],
   "source": [
    "popular_items = popular_items.sort_values(by=['item_label','type','ts'], ascending=False)"
   ]
  },
  {
   "cell_type": "code",
   "execution_count": 64,
   "metadata": {},
   "outputs": [],
   "source": [
    "popular_items['n'] = popular_items.groupby(['item_label','type'])['aid'].cumcount()\n",
    "popular_items = popular_items[popular_items['n'] < 20]\n",
    "# popular_items = popular_items.to_pandas().groupby('type')['aid'].apply(list).reset_index()"
   ]
  },
  {
   "cell_type": "code",
   "execution_count": 65,
   "metadata": {},
   "outputs": [],
   "source": [
    "popular_items = popular_items.groupby(['item_label','type'])['aid'].collect().reset_index()"
   ]
  },
  {
   "cell_type": "code",
   "execution_count": 66,
   "metadata": {},
   "outputs": [],
   "source": [
    "most_label = test.groupby(['session','item_label'])['ts'].count().reset_index()\n",
    "most_label = most_label.sort_values(['session','ts'],ascending=[True,False])\n",
    "most_label = most_label.groupby('session')['item_label'].first()"
   ]
  },
  {
   "cell_type": "code",
   "execution_count": 67,
   "metadata": {},
   "outputs": [],
   "source": [
    "most_label = most_label.reset_index()"
   ]
  },
  {
   "cell_type": "code",
   "execution_count": 68,
   "metadata": {},
   "outputs": [],
   "source": [
    "id2type = {0: 'clicks', 1: 'carts', 2: 'orders'}\n",
    "popular_items['type'] = popular_items['type'].map(id2type)"
   ]
  },
  {
   "cell_type": "code",
   "execution_count": 69,
   "metadata": {},
   "outputs": [],
   "source": [
    "pred_dfs = []\n",
    "for t in  ['clicks', 'carts', 'orders']:\n",
    "    pred_df = most_label.copy()\n",
    "    label =  popular_items[popular_items['type'] == t]\n",
    "    pred_df = pred_df.merge(label, on='item_label', how='left')\n",
    "    pred_df['type'] = t\n",
    "    pred_df =pred_df.drop(columns = ['item_label'])\n",
    "    pred_df = pred_df.sort_values(['session'])\n",
    "    pred_dfs.append(pred_df)\n",
    "pred_df = cudf.concat(pred_dfs)"
   ]
  },
  {
   "cell_type": "code",
   "execution_count": 70,
   "metadata": {},
   "outputs": [],
   "source": [
    "pred_df.columns = ['session','type','labels']\n",
    "pred_df = pred_df.to_pandas()\n",
    "pred_df = pred_df.reset_index(drop=True)\n",
    "pred_df['labels'] = pred_df['labels'].apply(lambda d: d if isinstance(d,np.ndarray) else np.array([]))\n",
    "pred_df['labels'] = pred_df['labels'].apply(lambda d: list(d))"
   ]
  },
  {
   "cell_type": "code",
   "execution_count": 71,
   "metadata": {},
   "outputs": [
    {
     "ename": "TypeError",
     "evalue": "'float' object is not subscriptable",
     "output_type": "error",
     "traceback": [
      "\u001b[0;31m---------------------------------------------------------------------------\u001b[0m",
      "\u001b[0;31mTypeError\u001b[0m                                 Traceback (most recent call last)",
      "\u001b[1;32m/root/suzhaopei/otto/generate_candidates/popular_item.ipynb Cell 15\u001b[0m in \u001b[0;36m<cell line: 4>\u001b[0;34m()\u001b[0m\n\u001b[1;32m      <a href='vscode-notebook-cell://ssh-remote%2B123.125.240.150/root/suzhaopei/otto/generate_candidates/popular_item.ipynb#X24sdnNjb2RlLXJlbW90ZQ%3D%3D?line=5'>6</a>\u001b[0m test_labels_sub \u001b[39m=\u001b[39m test_labels\u001b[39m.\u001b[39mloc[test_labels[\u001b[39m'\u001b[39m\u001b[39mtype\u001b[39m\u001b[39m'\u001b[39m]\u001b[39m==\u001b[39mt]\n\u001b[1;32m      <a href='vscode-notebook-cell://ssh-remote%2B123.125.240.150/root/suzhaopei/otto/generate_candidates/popular_item.ipynb#X24sdnNjb2RlLXJlbW90ZQ%3D%3D?line=6'>7</a>\u001b[0m test_labels_sub \u001b[39m=\u001b[39m test_labels_sub\u001b[39m.\u001b[39mmerge(sub, how\u001b[39m=\u001b[39m\u001b[39m'\u001b[39m\u001b[39mleft\u001b[39m\u001b[39m'\u001b[39m, on\u001b[39m=\u001b[39m[\u001b[39m'\u001b[39m\u001b[39msession\u001b[39m\u001b[39m'\u001b[39m])\n\u001b[0;32m----> <a href='vscode-notebook-cell://ssh-remote%2B123.125.240.150/root/suzhaopei/otto/generate_candidates/popular_item.ipynb#X24sdnNjb2RlLXJlbW90ZQ%3D%3D?line=7'>8</a>\u001b[0m test_labels_sub[\u001b[39m'\u001b[39m\u001b[39mhits\u001b[39m\u001b[39m'\u001b[39m] \u001b[39m=\u001b[39m test_labels_sub\u001b[39m.\u001b[39;49mapply(\u001b[39mlambda\u001b[39;49;00m df: \u001b[39mlen\u001b[39;49m(\u001b[39mset\u001b[39;49m(df\u001b[39m.\u001b[39;49mground_truth)\u001b[39m.\u001b[39;49mintersection(\u001b[39mset\u001b[39;49m(df\u001b[39m.\u001b[39;49mlabels[:\u001b[39m20\u001b[39;49m]))), axis\u001b[39m=\u001b[39;49m\u001b[39m1\u001b[39;49m)\n\u001b[1;32m      <a href='vscode-notebook-cell://ssh-remote%2B123.125.240.150/root/suzhaopei/otto/generate_candidates/popular_item.ipynb#X24sdnNjb2RlLXJlbW90ZQ%3D%3D?line=8'>9</a>\u001b[0m test_labels_sub[\u001b[39m'\u001b[39m\u001b[39mgt_count\u001b[39m\u001b[39m'\u001b[39m] \u001b[39m=\u001b[39m test_labels_sub\u001b[39m.\u001b[39mground_truth\u001b[39m.\u001b[39mstr\u001b[39m.\u001b[39mlen()\u001b[39m.\u001b[39mclip(\u001b[39m0\u001b[39m,\u001b[39m20\u001b[39m)\n\u001b[1;32m     <a href='vscode-notebook-cell://ssh-remote%2B123.125.240.150/root/suzhaopei/otto/generate_candidates/popular_item.ipynb#X24sdnNjb2RlLXJlbW90ZQ%3D%3D?line=9'>10</a>\u001b[0m recall \u001b[39m=\u001b[39m test_labels_sub[\u001b[39m'\u001b[39m\u001b[39mhits\u001b[39m\u001b[39m'\u001b[39m]\u001b[39m.\u001b[39msum() \u001b[39m/\u001b[39m test_labels_sub[\u001b[39m'\u001b[39m\u001b[39mgt_count\u001b[39m\u001b[39m'\u001b[39m]\u001b[39m.\u001b[39msum()\n",
      "File \u001b[0;32m~/miniconda3/lib/python3.8/site-packages/pandas/core/frame.py:9565\u001b[0m, in \u001b[0;36mDataFrame.apply\u001b[0;34m(self, func, axis, raw, result_type, args, **kwargs)\u001b[0m\n\u001b[1;32m   9554\u001b[0m \u001b[39mfrom\u001b[39;00m \u001b[39mpandas\u001b[39;00m\u001b[39m.\u001b[39;00m\u001b[39mcore\u001b[39;00m\u001b[39m.\u001b[39;00m\u001b[39mapply\u001b[39;00m \u001b[39mimport\u001b[39;00m frame_apply\n\u001b[1;32m   9556\u001b[0m op \u001b[39m=\u001b[39m frame_apply(\n\u001b[1;32m   9557\u001b[0m     \u001b[39mself\u001b[39m,\n\u001b[1;32m   9558\u001b[0m     func\u001b[39m=\u001b[39mfunc,\n\u001b[0;32m   (...)\u001b[0m\n\u001b[1;32m   9563\u001b[0m     kwargs\u001b[39m=\u001b[39mkwargs,\n\u001b[1;32m   9564\u001b[0m )\n\u001b[0;32m-> 9565\u001b[0m \u001b[39mreturn\u001b[39;00m op\u001b[39m.\u001b[39;49mapply()\u001b[39m.\u001b[39m__finalize__(\u001b[39mself\u001b[39m, method\u001b[39m=\u001b[39m\u001b[39m\"\u001b[39m\u001b[39mapply\u001b[39m\u001b[39m\"\u001b[39m)\n",
      "File \u001b[0;32m~/miniconda3/lib/python3.8/site-packages/pandas/core/apply.py:746\u001b[0m, in \u001b[0;36mFrameApply.apply\u001b[0;34m(self)\u001b[0m\n\u001b[1;32m    743\u001b[0m \u001b[39melif\u001b[39;00m \u001b[39mself\u001b[39m\u001b[39m.\u001b[39mraw:\n\u001b[1;32m    744\u001b[0m     \u001b[39mreturn\u001b[39;00m \u001b[39mself\u001b[39m\u001b[39m.\u001b[39mapply_raw()\n\u001b[0;32m--> 746\u001b[0m \u001b[39mreturn\u001b[39;00m \u001b[39mself\u001b[39;49m\u001b[39m.\u001b[39;49mapply_standard()\n",
      "File \u001b[0;32m~/miniconda3/lib/python3.8/site-packages/pandas/core/apply.py:873\u001b[0m, in \u001b[0;36mFrameApply.apply_standard\u001b[0;34m(self)\u001b[0m\n\u001b[1;32m    872\u001b[0m \u001b[39mdef\u001b[39;00m \u001b[39mapply_standard\u001b[39m(\u001b[39mself\u001b[39m):\n\u001b[0;32m--> 873\u001b[0m     results, res_index \u001b[39m=\u001b[39m \u001b[39mself\u001b[39;49m\u001b[39m.\u001b[39;49mapply_series_generator()\n\u001b[1;32m    875\u001b[0m     \u001b[39m# wrap results\u001b[39;00m\n\u001b[1;32m    876\u001b[0m     \u001b[39mreturn\u001b[39;00m \u001b[39mself\u001b[39m\u001b[39m.\u001b[39mwrap_results(results, res_index)\n",
      "File \u001b[0;32m~/miniconda3/lib/python3.8/site-packages/pandas/core/apply.py:889\u001b[0m, in \u001b[0;36mFrameApply.apply_series_generator\u001b[0;34m(self)\u001b[0m\n\u001b[1;32m    886\u001b[0m \u001b[39mwith\u001b[39;00m option_context(\u001b[39m\"\u001b[39m\u001b[39mmode.chained_assignment\u001b[39m\u001b[39m\"\u001b[39m, \u001b[39mNone\u001b[39;00m):\n\u001b[1;32m    887\u001b[0m     \u001b[39mfor\u001b[39;00m i, v \u001b[39min\u001b[39;00m \u001b[39menumerate\u001b[39m(series_gen):\n\u001b[1;32m    888\u001b[0m         \u001b[39m# ignore SettingWithCopy here in case the user mutates\u001b[39;00m\n\u001b[0;32m--> 889\u001b[0m         results[i] \u001b[39m=\u001b[39m \u001b[39mself\u001b[39;49m\u001b[39m.\u001b[39;49mf(v)\n\u001b[1;32m    890\u001b[0m         \u001b[39mif\u001b[39;00m \u001b[39misinstance\u001b[39m(results[i], ABCSeries):\n\u001b[1;32m    891\u001b[0m             \u001b[39m# If we have a view on v, we need to make a copy because\u001b[39;00m\n\u001b[1;32m    892\u001b[0m             \u001b[39m#  series_generator will swap out the underlying data\u001b[39;00m\n\u001b[1;32m    893\u001b[0m             results[i] \u001b[39m=\u001b[39m results[i]\u001b[39m.\u001b[39mcopy(deep\u001b[39m=\u001b[39m\u001b[39mFalse\u001b[39;00m)\n",
      "\u001b[1;32m/root/suzhaopei/otto/generate_candidates/popular_item.ipynb Cell 15\u001b[0m in \u001b[0;36m<lambda>\u001b[0;34m(df)\u001b[0m\n\u001b[1;32m      <a href='vscode-notebook-cell://ssh-remote%2B123.125.240.150/root/suzhaopei/otto/generate_candidates/popular_item.ipynb#X24sdnNjb2RlLXJlbW90ZQ%3D%3D?line=5'>6</a>\u001b[0m test_labels_sub \u001b[39m=\u001b[39m test_labels\u001b[39m.\u001b[39mloc[test_labels[\u001b[39m'\u001b[39m\u001b[39mtype\u001b[39m\u001b[39m'\u001b[39m]\u001b[39m==\u001b[39mt]\n\u001b[1;32m      <a href='vscode-notebook-cell://ssh-remote%2B123.125.240.150/root/suzhaopei/otto/generate_candidates/popular_item.ipynb#X24sdnNjb2RlLXJlbW90ZQ%3D%3D?line=6'>7</a>\u001b[0m test_labels_sub \u001b[39m=\u001b[39m test_labels_sub\u001b[39m.\u001b[39mmerge(sub, how\u001b[39m=\u001b[39m\u001b[39m'\u001b[39m\u001b[39mleft\u001b[39m\u001b[39m'\u001b[39m, on\u001b[39m=\u001b[39m[\u001b[39m'\u001b[39m\u001b[39msession\u001b[39m\u001b[39m'\u001b[39m])\n\u001b[0;32m----> <a href='vscode-notebook-cell://ssh-remote%2B123.125.240.150/root/suzhaopei/otto/generate_candidates/popular_item.ipynb#X24sdnNjb2RlLXJlbW90ZQ%3D%3D?line=7'>8</a>\u001b[0m test_labels_sub[\u001b[39m'\u001b[39m\u001b[39mhits\u001b[39m\u001b[39m'\u001b[39m] \u001b[39m=\u001b[39m test_labels_sub\u001b[39m.\u001b[39mapply(\u001b[39mlambda\u001b[39;00m df: \u001b[39mlen\u001b[39m(\u001b[39mset\u001b[39m(df\u001b[39m.\u001b[39mground_truth)\u001b[39m.\u001b[39mintersection(\u001b[39mset\u001b[39m(df\u001b[39m.\u001b[39;49mlabels[:\u001b[39m20\u001b[39;49m]))), axis\u001b[39m=\u001b[39m\u001b[39m1\u001b[39m)\n\u001b[1;32m      <a href='vscode-notebook-cell://ssh-remote%2B123.125.240.150/root/suzhaopei/otto/generate_candidates/popular_item.ipynb#X24sdnNjb2RlLXJlbW90ZQ%3D%3D?line=8'>9</a>\u001b[0m test_labels_sub[\u001b[39m'\u001b[39m\u001b[39mgt_count\u001b[39m\u001b[39m'\u001b[39m] \u001b[39m=\u001b[39m test_labels_sub\u001b[39m.\u001b[39mground_truth\u001b[39m.\u001b[39mstr\u001b[39m.\u001b[39mlen()\u001b[39m.\u001b[39mclip(\u001b[39m0\u001b[39m,\u001b[39m20\u001b[39m)\n\u001b[1;32m     <a href='vscode-notebook-cell://ssh-remote%2B123.125.240.150/root/suzhaopei/otto/generate_candidates/popular_item.ipynb#X24sdnNjb2RlLXJlbW90ZQ%3D%3D?line=9'>10</a>\u001b[0m recall \u001b[39m=\u001b[39m test_labels_sub[\u001b[39m'\u001b[39m\u001b[39mhits\u001b[39m\u001b[39m'\u001b[39m]\u001b[39m.\u001b[39msum() \u001b[39m/\u001b[39m test_labels_sub[\u001b[39m'\u001b[39m\u001b[39mgt_count\u001b[39m\u001b[39m'\u001b[39m]\u001b[39m.\u001b[39msum()\n",
      "\u001b[0;31mTypeError\u001b[0m: 'float' object is not subscriptable"
     ]
    }
   ],
   "source": [
    "test_labels = pd.read_parquet('/root/autodl-tmp/ottodata/valid/test_labels.parquet')\n",
    "score = 0\n",
    "weights = {'clicks': 0.10, 'carts': 0.30, 'orders': 0.60}\n",
    "for t in ['clicks','carts','orders']:\n",
    "    sub = pred_df.loc[pred_df['type']==t].copy()\n",
    "    test_labels_sub = test_labels.loc[test_labels['type']==t]\n",
    "    test_labels_sub = test_labels_sub.merge(sub, how='left', on=['session'])\n",
    "    test_labels_sub['hits'] = test_labels_sub.apply(lambda df: len(set(df.ground_truth).intersection(set(df.labels[:20]))), axis=1)\n",
    "    test_labels_sub['gt_count'] = test_labels_sub.ground_truth.str.len().clip(0,20)\n",
    "    recall = test_labels_sub['hits'].sum() / test_labels_sub['gt_count'].sum()\n",
    "    score += weights[t]*recall\n",
    "    print(f'{t} recall =',recall)\n",
    "print('=============')\n",
    "print('Overall Recall =',score)\n",
    "print('=============')"
   ]
  },
  {
   "cell_type": "code",
   "execution_count": 72,
   "metadata": {},
   "outputs": [],
   "source": [
    "if IS_TRAIN:\n",
    "    pred_df.to_parquet('/root/autodl-tmp/ottodata/tmp/hot4train.parquet')\n",
    "else:\n",
    "    pred_df.to_parquet('/root/autodl-tmp/ottodata/tmp/hot4test.parquet')"
   ]
  },
  {
   "cell_type": "code",
   "execution_count": 73,
   "metadata": {},
   "outputs": [
    {
     "data": {
      "text/html": [
       "<div>\n",
       "<style scoped>\n",
       "    .dataframe tbody tr th:only-of-type {\n",
       "        vertical-align: middle;\n",
       "    }\n",
       "\n",
       "    .dataframe tbody tr th {\n",
       "        vertical-align: top;\n",
       "    }\n",
       "\n",
       "    .dataframe thead th {\n",
       "        text-align: right;\n",
       "    }\n",
       "</style>\n",
       "<table border=\"1\" class=\"dataframe\">\n",
       "  <thead>\n",
       "    <tr style=\"text-align: right;\">\n",
       "      <th></th>\n",
       "      <th>session</th>\n",
       "      <th>type</th>\n",
       "      <th>labels</th>\n",
       "    </tr>\n",
       "  </thead>\n",
       "  <tbody>\n",
       "    <tr>\n",
       "      <th>0</th>\n",
       "      <td>12899779</td>\n",
       "      <td>clicks</td>\n",
       "      <td>[610887, 1387440, 1806664, 1634357, 635921, 12...</td>\n",
       "    </tr>\n",
       "    <tr>\n",
       "      <th>1</th>\n",
       "      <td>12899780</td>\n",
       "      <td>clicks</td>\n",
       "      <td>[1502122, 1586171, 636101, 1142000, 1419849, 8...</td>\n",
       "    </tr>\n",
       "    <tr>\n",
       "      <th>2</th>\n",
       "      <td>12899781</td>\n",
       "      <td>clicks</td>\n",
       "      <td>[1460571, 620545, 811371, 102345, 670006, 3317...</td>\n",
       "    </tr>\n",
       "    <tr>\n",
       "      <th>3</th>\n",
       "      <td>12899782</td>\n",
       "      <td>clicks</td>\n",
       "      <td>[889671, 498405, 552213, 424203, 905448, 60838...</td>\n",
       "    </tr>\n",
       "    <tr>\n",
       "      <th>4</th>\n",
       "      <td>12899783</td>\n",
       "      <td>clicks</td>\n",
       "      <td>[187161, 232749, 1793171, 155991, 838646, 1502...</td>\n",
       "    </tr>\n",
       "    <tr>\n",
       "      <th>...</th>\n",
       "      <td>...</td>\n",
       "      <td>...</td>\n",
       "      <td>...</td>\n",
       "    </tr>\n",
       "    <tr>\n",
       "      <th>5009614</th>\n",
       "      <td>14571577</td>\n",
       "      <td>orders</td>\n",
       "      <td>[399315, 1308823, 573273, 195833, 1405280, 176...</td>\n",
       "    </tr>\n",
       "    <tr>\n",
       "      <th>5009615</th>\n",
       "      <td>14571578</td>\n",
       "      <td>orders</td>\n",
       "      <td>[109382, 141364, 386723, 1109341, 349161, 1018...</td>\n",
       "    </tr>\n",
       "    <tr>\n",
       "      <th>5009616</th>\n",
       "      <td>14571579</td>\n",
       "      <td>orders</td>\n",
       "      <td>[1767620, 1829825, 945766, 1634188, 1106245, 1...</td>\n",
       "    </tr>\n",
       "    <tr>\n",
       "      <th>5009617</th>\n",
       "      <td>14571580</td>\n",
       "      <td>orders</td>\n",
       "      <td>[773782, 1265851, 32322, 484711, 672903, 11777...</td>\n",
       "    </tr>\n",
       "    <tr>\n",
       "      <th>5009618</th>\n",
       "      <td>14571581</td>\n",
       "      <td>orders</td>\n",
       "      <td>[636390, 756531, 469000, 148952, 196038, 12562...</td>\n",
       "    </tr>\n",
       "  </tbody>\n",
       "</table>\n",
       "<p>5009619 rows × 3 columns</p>\n",
       "</div>"
      ],
      "text/plain": [
       "          session    type                                             labels\n",
       "0        12899779  clicks  [610887, 1387440, 1806664, 1634357, 635921, 12...\n",
       "1        12899780  clicks  [1502122, 1586171, 636101, 1142000, 1419849, 8...\n",
       "2        12899781  clicks  [1460571, 620545, 811371, 102345, 670006, 3317...\n",
       "3        12899782  clicks  [889671, 498405, 552213, 424203, 905448, 60838...\n",
       "4        12899783  clicks  [187161, 232749, 1793171, 155991, 838646, 1502...\n",
       "...           ...     ...                                                ...\n",
       "5009614  14571577  orders  [399315, 1308823, 573273, 195833, 1405280, 176...\n",
       "5009615  14571578  orders  [109382, 141364, 386723, 1109341, 349161, 1018...\n",
       "5009616  14571579  orders  [1767620, 1829825, 945766, 1634188, 1106245, 1...\n",
       "5009617  14571580  orders  [773782, 1265851, 32322, 484711, 672903, 11777...\n",
       "5009618  14571581  orders  [636390, 756531, 469000, 148952, 196038, 12562...\n",
       "\n",
       "[5009619 rows x 3 columns]"
      ]
     },
     "execution_count": 73,
     "metadata": {},
     "output_type": "execute_result"
    }
   ],
   "source": [
    "pred_df"
   ]
  },
  {
   "cell_type": "code",
   "execution_count": null,
   "metadata": {},
   "outputs": [],
   "source": []
  }
 ],
 "metadata": {
  "kernelspec": {
   "display_name": "Python 3 (ipykernel)",
   "language": "python",
   "name": "python3"
  },
  "language_info": {
   "codemirror_mode": {
    "name": "ipython",
    "version": 3
   },
   "file_extension": ".py",
   "mimetype": "text/x-python",
   "name": "python",
   "nbconvert_exporter": "python",
   "pygments_lexer": "ipython3",
   "version": "3.8.10 (default, Jun  4 2021, 15:09:15) \n[GCC 7.5.0]"
  },
  "vscode": {
   "interpreter": {
    "hash": "2f394aca7ca06fed1e6064aef884364492d7cdda3614a461e02e6407fc40ba69"
   }
  }
 },
 "nbformat": 4,
 "nbformat_minor": 4
}
