{
 "cells": [
  {
   "cell_type": "code",
   "execution_count": 12,
   "metadata": {},
   "outputs": [],
   "source": [
    "import cudf\n",
    "import pandas as pd\n",
    "import numpy as np\n",
    "IS_TRAIN = True\n",
    "IS_SUBMIT = False"
   ]
  },
  {
   "cell_type": "code",
   "execution_count": 13,
   "metadata": {},
   "outputs": [],
   "source": [
    "if IS_TRAIN:\n",
    "    candidates_3 = cudf.read_parquet('/root/autodl-tmp/ottodata/tmp/co4train_v2.parquet')\n",
    "    candidates_1 = cudf.read_parquet('/root/autodl-tmp/ottodata/tmp/pe4train.parquet')\n",
    "    candidates_2 = cudf.read_parquet('/root/autodl-tmp/ottodata/tmp/bm4train.parquet')\n",
    "else:\n",
    "    candidates_1 = cudf.read_parquet('/root/autodl-tmp/ottodata/tmp/pe4test.parquet')\n",
    "    candidates_3 = cudf.read_parquet('/root/autodl-tmp/ottodata/tmp/co4test2.parquet')\n",
    "    # candidates_2 = cudf.read_parquet('/root/autodl-tmp/ottodata/tmp/pe4test.parquet')"
   ]
  },
  {
   "cell_type": "code",
   "execution_count": 14,
   "metadata": {},
   "outputs": [],
   "source": [
    "candidates_1 = candidates_1.to_pandas()\n",
    "candidates_2 = candidates_2.to_pandas()\n",
    "candidates_3 = candidates_3.to_pandas()"
   ]
  },
  {
   "cell_type": "code",
   "execution_count": 15,
   "metadata": {},
   "outputs": [],
   "source": [
    "candidates_2 = candidates_2.reset_index(drop=True)"
   ]
  },
  {
   "cell_type": "code",
   "execution_count": 16,
   "metadata": {},
   "outputs": [],
   "source": [
    "candidates_1['labels_2'] = candidates_2['labels']\n",
    "candidates_1['labels_3'] = candidates_3['labels']\n",
    "# candidates_1 = candidates_1.to_pandas()\n",
    "candidates_1['labels'] = candidates_1.apply(lambda x:np.unique(np.concatenate([x['labels'],x['labels_2'],x['labels_3']])),axis=1)"
   ]
  },
  {
   "cell_type": "code",
   "execution_count": 17,
   "metadata": {},
   "outputs": [],
   "source": [
    "pred_df = candidates_1[['session', 'type', 'labels']]"
   ]
  },
  {
   "cell_type": "code",
   "execution_count": 18,
   "metadata": {},
   "outputs": [],
   "source": [
    "if IS_SUBMIT:\n",
    "    submit = pred_df.copy()\n",
    "    submit['labels'] = submit['labels'].apply(lambda x: x[:20])\n",
    "    submit['labels'] = submit['labels'].apply(lambda x: ' '.join([str(l) for l in x]))\n",
    "    submit['session'] = submit['session'].astype('str') + '_' + submit['type'].astype('str')\n",
    "    submit = submit[['session', 'labels']]\n",
    "    submit.rename(columns={'session': 'session_type'}, inplace=True)\n",
    "    submit.to_csv('submission.csv.gz', index=False)"
   ]
  },
  {
   "cell_type": "code",
   "execution_count": 19,
   "metadata": {},
   "outputs": [
    {
     "name": "stdout",
     "output_type": "stream",
     "text": [
      "clicks recall = 0.6535509992970799\n",
      "carts recall = 0.5179450529244625\n",
      "orders recall = 0.7121955423344175\n",
      "=============\n",
      "Overall Recall = 0.6480559412076972\n",
      "=============\n"
     ]
    }
   ],
   "source": [
    "if IS_TRAIN:\n",
    "# COMPUTE METRIC\n",
    "    test_labels = pd.read_parquet('/root/autodl-tmp/ottodata/valid/test_labels.parquet')\n",
    "    score = 0\n",
    "    weights = {'clicks': 0.10, 'carts': 0.30, 'orders': 0.60}\n",
    "    for t in ['clicks','carts','orders']:\n",
    "        sub = pred_df.loc[pred_df['type']==t].copy()\n",
    "        test_labels_sub = test_labels.loc[test_labels['type']==t]\n",
    "        test_labels_sub = test_labels_sub.merge(sub, how='left', on=['session'])\n",
    "        test_labels_sub['hits'] = test_labels_sub.apply(lambda df: len(set(df.ground_truth).intersection(set(df.labels))), axis=1)\n",
    "        test_labels_sub['gt_count'] = test_labels_sub.ground_truth.str.len().clip(0,20)\n",
    "        recall = test_labels_sub['hits'].sum() / test_labels_sub['gt_count'].sum()\n",
    "        score += weights[t]*recall\n",
    "        print(f'{t} recall =',recall)\n",
    "    print('=============')\n",
    "    print('Overall Recall =',score)\n",
    "    print('=============')"
   ]
  },
  {
   "cell_type": "code",
   "execution_count": 20,
   "metadata": {},
   "outputs": [],
   "source": [
    "# if IS_TRAIN:\n",
    "#     pred_df.to_parquet('/root/autodl-tmp/ottodata/tmp/itemcf4train.parquet')\n",
    "# else:\n",
    "#     pred_df.to_parquet('/root/autodl-tmp/ottodata/tmp/itemcf4test.parquet')"
   ]
  },
  {
   "cell_type": "code",
   "execution_count": 21,
   "metadata": {},
   "outputs": [
    {
     "data": {
      "text/plain": [
       "101.98727273433852"
      ]
     },
     "execution_count": 21,
     "metadata": {},
     "output_type": "execute_result"
    }
   ],
   "source": [
    "pred_df['labels'].apply(lambda x: len(x)).mean()"
   ]
  },
  {
   "cell_type": "code",
   "execution_count": null,
   "metadata": {},
   "outputs": [],
   "source": []
  }
 ],
 "metadata": {
  "kernelspec": {
   "display_name": "base",
   "language": "python",
   "name": "python3"
  },
  "language_info": {
   "codemirror_mode": {
    "name": "ipython",
    "version": 3
   },
   "file_extension": ".py",
   "mimetype": "text/x-python",
   "name": "python",
   "nbconvert_exporter": "python",
   "pygments_lexer": "ipython3",
   "version": "3.8.8"
  },
  "orig_nbformat": 4,
  "vscode": {
   "interpreter": {
    "hash": "49cb93f377a7abe7414b7b0f21fb3017538004a126cf690fb524202736b7fb92"
   }
  }
 },
 "nbformat": 4,
 "nbformat_minor": 2
}
